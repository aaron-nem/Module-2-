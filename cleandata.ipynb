{
 "cells": [
  {
   "cell_type": "code",
   "execution_count": 5,
   "id": "97015fc0-8d18-47ad-9a41-cf4bdaaa7aac",
   "metadata": {},
   "outputs": [
    {
     "name": "stdout",
     "output_type": "stream",
     "text": [
      "Initial data shape: (10000, 10)\n",
      "Columns: ['address', 'city', 'country', 'keys', 'latitude', 'longitude', 'name', 'postalCode', 'province', 'websites']\n",
      "Cleaned data sample:\n",
      "                 address                    city country  \\\n",
      "0            324 Main St                 Massena      US   \n",
      "1        530 Clinton Ave  Washington Court House      US   \n",
      "2   408 Market Square Dr               Maysville      US   \n",
      "3  6098 State Highway 37                 Massena      US   \n",
      "4        139 Columbus Rd                  Athens      US   \n",
      "\n",
      "                                                keys  latitude  longitude  \\\n",
      "0                us/ny/massena/324mainst/-1161002137  44.92130  -74.89021   \n",
      "1  us/oh/washingtoncourthouse/530clintonave/-7914...  39.53255  -83.44526   \n",
      "2       us/ky/maysville/408marketsquaredr/1051460804  38.62736  -83.79141   \n",
      "3       us/ny/massena/6098statehighway37/-1161002137  44.95008  -74.84553   \n",
      "4               us/oh/athens/139columbusrd/990890980  39.35155  -82.09728   \n",
      "\n",
      "               name postalCode province  \\\n",
      "0        McDonald's      13662       NY   \n",
      "1           Wendy's      43160       OH   \n",
      "2  Frisch's Big Boy      41056       KY   \n",
      "3        McDonald's      13662       NY   \n",
      "4   OMG! Rotisserie      45701       OH   \n",
      "\n",
      "                                            websites  \n",
      "0  http://mcdonalds.com,http://www.mcdonalds.com/...  \n",
      "1                              http://www.wendys.com  \n",
      "2  http://www.frischs.com,https://www.frischs.com...  \n",
      "3  http://mcdonalds.com,http://www.mcdonalds.com/...  \n",
      "4  http://www.omgrotisserie.com,http://omgrotisse...  \n"
     ]
    }
   ],
   "source": [
    "import pandas as pd\n",
    "\n",
    "\n",
    "df = pd.read_csv(\"FastFoodRestaurants.csv\")\n",
    "print(\"Initial data shape:\", df.shape)\n",
    "print(\"Columns:\", df.columns.tolist())\n",
    "\n",
    "\n",
    "df.drop_duplicates(inplace=True)\n",
    "\n",
    "\n",
    "df = df.dropna(subset=[\"province\"])\n",
    "\n",
    "\n",
    "df[\"province\"] = df[\"province\"].str.strip().str.upper()\n",
    "\n",
    "\n",
    "print(\"Cleaned data sample:\")\n",
    "print(df.head())\n",
    "\n",
    "\n",
    "df.to_csv(\"FastFoodRestaurants_cleaned.csv\", index=False)\n",
    "\n"
   ]
  },
  {
   "cell_type": "code",
   "execution_count": null,
   "id": "d5cca13a-fee5-4f82-bea4-70d5300e46eb",
   "metadata": {},
   "outputs": [],
   "source": []
  }
 ],
 "metadata": {
  "kernelspec": {
   "display_name": "Python [conda env:base] *",
   "language": "python",
   "name": "conda-base-py"
  },
  "language_info": {
   "codemirror_mode": {
    "name": "ipython",
    "version": 3
   },
   "file_extension": ".py",
   "mimetype": "text/x-python",
   "name": "python",
   "nbconvert_exporter": "python",
   "pygments_lexer": "ipython3",
   "version": "3.12.4"
  }
 },
 "nbformat": 4,
 "nbformat_minor": 5
}
